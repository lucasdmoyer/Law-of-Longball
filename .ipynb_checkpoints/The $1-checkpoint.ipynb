{
 "cells": [
  {
   "cell_type": "markdown",
   "metadata": {},
   "source": [
    "The $1 Bet\n",
    "If you bet one dollar for a coinflip and everytime you lost you would bet the amount you need to make one dollar again, and if you won bet the amount to make one dollar, how would you do?\n",
    "\n",
    "Surprisingly well"
   ]
  },
  {
   "cell_type": "code",
   "execution_count": 76,
   "metadata": {
    "collapsed": false
   },
   "outputs": [],
   "source": [
    "import numpy as np\n",
    "num_bets = 100000\n",
    "amount_bet = 1\n",
    "\n",
    "record = []\n",
    "hole = 1\n",
    "my_amount = 50\n",
    "max_tails = 0\n",
    "tails_row = 0\n",
    "for bet in range(num_bets):\n",
    "    bet_outcome = np.random.randint(low=0,high=2)\n",
    "    amount_bet = hole + 1\n",
    "    if (bet_outcome==1):\n",
    "        my_amount += amount_bet\n",
    "        hole = 0\n",
    "        max_tails = 0\n",
    "    else:\n",
    "        my_amount -= amount_bet\n",
    "        hole = 50 - my_amount\n",
    "        max_tails += 1\n",
    "        if max_tails > tails_row:\n",
    "            tails_row = max_tails\n",
    "    record.append(my_amount)"
   ]
  },
  {
   "cell_type": "code",
   "execution_count": 77,
   "metadata": {
    "collapsed": false
   },
   "outputs": [
    {
     "data": {
      "image/png": "[encoded data removed]",
      "text/plain": [
       "<matplotlib.figure.Figure at 0x16b9b416588>"
      ]
     },
     "metadata": {},
     "output_type": "display_data"
    },
    {
     "name": "stdout",
     "output_type": "stream",
     "text": [
      "Tails in a row = 17\n",
      "Odds of getting this many tails in a row in 100000 bets = 7.62939453125e-06\n",
      "Final gain = 3\n"
     ]
    }
   ],
   "source": [
    "import matplotlib.pyplot as plt\n",
    "plt.plot(record)\n",
    "plt.show()\n",
    "print(\"Tails in a row = \" + str(tails_row))\n",
    "print(\"Odds of getting this many tails in a row in \" +str(num_bets) + \" bets = \" + str(np.power(0.5,tails_row)))\n",
    "print(\"Final gain = \" + str(my_amount -50))"
   ]
  },
  {
   "cell_type": "markdown",
   "metadata": {},
   "source": [
    "Ok, now we see that if we were to bet on a coin flip, this strategy would work sometimes and other times it would work if you had enough money to back up your bets. How about, you could bet on something where you have a 60% chance of winning?"
   ]
  },
  {
   "cell_type": "code",
   "execution_count": 90,
   "metadata": {
    "collapsed": false
   },
   "outputs": [],
   "source": [
    "import random\n",
    "\n",
    "win_percentage = 60\n",
    "\n",
    "wins_list = []\n",
    "lost_list = []\n",
    "for i in range(win_percentage):\n",
    "    wins_list.append(1)\n",
    "for i in range(100-win_percentage):\n",
    "    lost_list.append(0)\n",
    "choices = wins_list + lost_list"
   ]
  },
  {
   "cell_type": "code",
   "execution_count": 91,
   "metadata": {
    "collapsed": false
   },
   "outputs": [],
   "source": [
    "num_bets = 100000\n",
    "amount_bet = 1\n",
    "\n",
    "record = []\n",
    "hole = 1\n",
    "my_amount = 50\n",
    "max_tails = 0\n",
    "tails_row = 0\n",
    "for bet in range(num_bets):\n",
    "    bet_outcome = np.random.choice(choices)\n",
    "    amount_bet = hole + 1\n",
    "    if (bet_outcome==1):\n",
    "        my_amount += amount_bet\n",
    "        hole = 0\n",
    "        max_tails = 0\n",
    "    else:\n",
    "        my_amount -= amount_bet\n",
    "        hole = 50 - my_amount\n",
    "        max_tails += 1\n",
    "        if max_tails > tails_row:\n",
    "            tails_row = max_tails\n",
    "    record.append(my_amount)"
   ]
  },
  {
   "cell_type": "code",
   "execution_count": 92,
   "metadata": {
    "collapsed": false
   },
   "outputs": [
    {
     "data": {
      "image/png": "[encoded data removed]",
      "text/plain": [
       "<matplotlib.figure.Figure at 0x16b9d925ef0>"
      ]
     },
     "metadata": {},
     "output_type": "display_data"
    },
    {
     "name": "stdout",
     "output_type": "stream",
     "text": [
      "Tails in a row = 11\n",
      "Odds of getting this many tails in a row in 100000 bets = 0.00048828125\n",
      "Final gain = 2\n"
     ]
    }
   ],
   "source": [
    "plt.plot(record)\n",
    "plt.show()\n",
    "print(\"Tails in a row = \" + str(tails_row))\n",
    "print(\"Odds of getting this many tails in a row in \" +str(num_bets) + \" bets = \" + str(np.power(0.5,tails_row)))\n",
    "print(\"Final gain = \" + str(my_amount -50))"
   ]
  },
  {
   "cell_type": "markdown",
   "metadata": {},
   "source": [
    "Even better? This could apply to betting on whether a stock would go up or down by the end of the trading period. You know the stock market trends to go up over time, so keep placing small bets!"
   ]
  }
 ],
 "metadata": {
  "kernelspec": {
   "display_name": "Python 3",
   "language": "python",
   "name": "python3"
  },
  "language_info": {
   "codemirror_mode": {
    "name": "ipython",
    "version": 3
   },
   "file_extension": ".py",
   "mimetype": "text/x-python",
   "name": "python",
   "nbconvert_exporter": "python",
   "pygments_lexer": "ipython3",
   "version": "3.5.2"
  }
 },
 "nbformat": 4,
 "nbformat_minor": 2
}
